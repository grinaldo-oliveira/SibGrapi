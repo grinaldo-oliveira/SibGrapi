{
  "nbformat": 4,
  "nbformat_minor": 0,
  "metadata": {
    "colab": {
      "provenance": [],
      "authorship_tag": "ABX9TyMRWl8KO2pYZBrpFxDQvfrB",
      "include_colab_link": true
    },
    "kernelspec": {
      "name": "python3",
      "display_name": "Python 3"
    },
    "language_info": {
      "name": "python"
    }
  },
  "cells": [
    {
      "cell_type": "markdown",
      "metadata": {
        "id": "view-in-github",
        "colab_type": "text"
      },
      "source": [
        "<a href=\"https://colab.research.google.com/github/grinaldo-oliveira/SibGrapi/blob/main/TSNET.ipynb\" target=\"_parent\"><img src=\"https://colab.research.google.com/assets/colab-badge.svg\" alt=\"Open In Colab\"/></a>"
      ]
    },
    {
      "cell_type": "code",
      "execution_count": 1,
      "metadata": {
        "colab": {
          "base_uri": "https://localhost:8080/"
        },
        "id": "rPPsa1wCxMvg",
        "outputId": "afb001e5-5e39-46d9-c532-ebf53ad8a6eb"
      },
      "outputs": [
        {
          "output_type": "stream",
          "name": "stdout",
          "text": [
            "Mounted at /content/drive\n"
          ]
        }
      ],
      "source": [
        "from google.colab import drive\n",
        "drive.mount('/content/drive')"
      ]
    },
    {
      "cell_type": "code",
      "source": [
        "%cd /content/drive/MyDrive/Doutorado/SibGrapi"
      ],
      "metadata": {
        "colab": {
          "base_uri": "https://localhost:8080/"
        },
        "id": "ywtfyrC3yot1",
        "outputId": "68f70713-d35c-4b4c-e852-1ec9a4bac42c"
      },
      "execution_count": 3,
      "outputs": [
        {
          "output_type": "stream",
          "name": "stdout",
          "text": [
            "/content/drive/MyDrive/Doutorado/SibGrapi\n"
          ]
        }
      ]
    },
    {
      "cell_type": "code",
      "source": [
        "from sklearn.manifold import TSNE\n",
        "from sklearn.metrics.pairwise import PAIRWISE_DISTANCE_FUNCTIONS\n",
        "import numpy as np\n",
        "import matplotlib.pyplot as plt\n",
        "\n"
      ],
      "metadata": {
        "id": "5SifwgBiy3MN"
      },
      "execution_count": 9,
      "outputs": []
    },
    {
      "cell_type": "code",
      "source": [
        "def load_embbed(pickle_path: str) -> tuple:\n",
        "    data = np.load(pickle_path, allow_pickle=True).tolist()\n",
        "    file_refs = data['fnames']\n",
        "    embeds    = data['embeddings']\n",
        "    labels    = data['labels']\n",
        "    classes   = data['classes']\n",
        "\n",
        "    embeds = np.vstack(embeds)\n",
        "    labels = np.vstack(labels)\n",
        "\n",
        "    return file_refs, embeds, labels, classes\n",
        "\n",
        "def plot_embed(data, labels):\n",
        "    fig = plt.figure()\n",
        "    ax = fig.add_subplot(projection='3d')\n",
        "    ax.scatter(data[:,0], data[:,1], data[:,2], c=labels)\n",
        "    plt.show()"
      ],
      "metadata": {
        "id": "z3-Vr6_o0EzR"
      },
      "execution_count": 10,
      "outputs": []
    },
    {
      "cell_type": "code",
      "source": [
        "tsne = TSNE(n_components=3, init='pca', method='exact', perplexity=40, verbose=1, metric='cosine')"
      ],
      "metadata": {
        "id": "B4aR6VZR0Jeh"
      },
      "execution_count": 11,
      "outputs": []
    },
    {
      "cell_type": "code",
      "source": [
        "file_refs, embeds, labels, classes = load_embbed(\"Data/UNI.npy\")\n",
        "embeds.shape, labels.shape"
      ],
      "metadata": {
        "colab": {
          "base_uri": "https://localhost:8080/"
        },
        "id": "bgP6z_6M0L9B",
        "outputId": "5686ab0d-bf24-4bdb-c91d-7eb24d345e97"
      },
      "execution_count": 13,
      "outputs": [
        {
          "output_type": "execute_result",
          "data": {
            "text/plain": [
              "((7582, 1024), (7582, 1))"
            ]
          },
          "metadata": {},
          "execution_count": 13
        }
      ]
    },
    {
      "cell_type": "code",
      "source": [
        "output = tsne.fit_transform(embeds)\n",
        "output.shape"
      ],
      "metadata": {
        "colab": {
          "base_uri": "https://localhost:8080/"
        },
        "id": "UUfNjFff0bkR",
        "outputId": "dc8629fd-39c3-4480-e86b-cb675b49d79e"
      },
      "execution_count": null,
      "outputs": [
        {
          "output_type": "stream",
          "name": "stdout",
          "text": [
            "[t-SNE] Computing pairwise distances...\n",
            "[t-SNE] Computed conditional probabilities for sample 1000 / 7582\n",
            "[t-SNE] Computed conditional probabilities for sample 2000 / 7582\n",
            "[t-SNE] Computed conditional probabilities for sample 3000 / 7582\n",
            "[t-SNE] Computed conditional probabilities for sample 4000 / 7582\n",
            "[t-SNE] Computed conditional probabilities for sample 5000 / 7582\n",
            "[t-SNE] Computed conditional probabilities for sample 6000 / 7582\n",
            "[t-SNE] Computed conditional probabilities for sample 7000 / 7582\n",
            "[t-SNE] Computed conditional probabilities for sample 7582 / 7582\n",
            "[t-SNE] Mean sigma: 0.085305\n"
          ]
        }
      ]
    },
    {
      "cell_type": "code",
      "source": [
        "plot_embed(output, labels)"
      ],
      "metadata": {
        "id": "zhzHuE490i2R"
      },
      "execution_count": null,
      "outputs": []
    }
  ]
}